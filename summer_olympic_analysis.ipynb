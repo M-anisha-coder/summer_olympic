{
  "nbformat": 4,
  "nbformat_minor": 0,
  "metadata": {
    "colab": {
      "name": "summer_olympic_analysis.ipynb",
      "provenance": [],
      "collapsed_sections": []
    },
    "kernelspec": {
      "display_name": "Python 3",
      "name": "python3"
    },
    "language_info": {
      "name": "python"
    }
  },
  "cells": [
    {
      "cell_type": "code",
      "metadata": {
        "id": "Beuo13kBS5Pq"
      },
      "source": [
        "import pandas as pd\n"
      ],
      "execution_count": 135,
      "outputs": []
    },
    {
      "cell_type": "code",
      "metadata": {
        "id": "N__3eYJhb0Cq"
      },
      "source": [
        "ld=pd.read_csv(\"summer.csv\")"
      ],
      "execution_count": 136,
      "outputs": []
    },
    {
      "cell_type": "code",
      "metadata": {
        "id": "Fq5Kpf7b2pfu",
        "colab": {
          "base_uri": "https://localhost:8080/",
          "height": 203
        },
        "outputId": "9866c5a1-5e50-4d55-8573-96af970ac2d1"
      },
      "source": [
        "ld.head()"
      ],
      "execution_count": 137,
      "outputs": [
        {
          "output_type": "execute_result",
          "data": {
            "text/html": [
              "<div>\n",
              "<style scoped>\n",
              "    .dataframe tbody tr th:only-of-type {\n",
              "        vertical-align: middle;\n",
              "    }\n",
              "\n",
              "    .dataframe tbody tr th {\n",
              "        vertical-align: top;\n",
              "    }\n",
              "\n",
              "    .dataframe thead th {\n",
              "        text-align: right;\n",
              "    }\n",
              "</style>\n",
              "<table border=\"1\" class=\"dataframe\">\n",
              "  <thead>\n",
              "    <tr style=\"text-align: right;\">\n",
              "      <th></th>\n",
              "      <th>Year</th>\n",
              "      <th>City</th>\n",
              "      <th>Sport</th>\n",
              "      <th>Discipline</th>\n",
              "      <th>Athlete</th>\n",
              "      <th>Country</th>\n",
              "      <th>Gender</th>\n",
              "      <th>Event</th>\n",
              "      <th>Medal</th>\n",
              "    </tr>\n",
              "  </thead>\n",
              "  <tbody>\n",
              "    <tr>\n",
              "      <th>0</th>\n",
              "      <td>1896</td>\n",
              "      <td>Athens</td>\n",
              "      <td>Aquatics</td>\n",
              "      <td>Swimming</td>\n",
              "      <td>HAJOS, Alfred</td>\n",
              "      <td>HUN</td>\n",
              "      <td>Men</td>\n",
              "      <td>100M Freestyle</td>\n",
              "      <td>Gold</td>\n",
              "    </tr>\n",
              "    <tr>\n",
              "      <th>1</th>\n",
              "      <td>1896</td>\n",
              "      <td>Athens</td>\n",
              "      <td>Aquatics</td>\n",
              "      <td>Swimming</td>\n",
              "      <td>HERSCHMANN, Otto</td>\n",
              "      <td>AUT</td>\n",
              "      <td>Men</td>\n",
              "      <td>100M Freestyle</td>\n",
              "      <td>Silver</td>\n",
              "    </tr>\n",
              "    <tr>\n",
              "      <th>2</th>\n",
              "      <td>1896</td>\n",
              "      <td>Athens</td>\n",
              "      <td>Aquatics</td>\n",
              "      <td>Swimming</td>\n",
              "      <td>DRIVAS, Dimitrios</td>\n",
              "      <td>GRE</td>\n",
              "      <td>Men</td>\n",
              "      <td>100M Freestyle For Sailors</td>\n",
              "      <td>Bronze</td>\n",
              "    </tr>\n",
              "    <tr>\n",
              "      <th>3</th>\n",
              "      <td>1896</td>\n",
              "      <td>Athens</td>\n",
              "      <td>Aquatics</td>\n",
              "      <td>Swimming</td>\n",
              "      <td>MALOKINIS, Ioannis</td>\n",
              "      <td>GRE</td>\n",
              "      <td>Men</td>\n",
              "      <td>100M Freestyle For Sailors</td>\n",
              "      <td>Gold</td>\n",
              "    </tr>\n",
              "    <tr>\n",
              "      <th>4</th>\n",
              "      <td>1896</td>\n",
              "      <td>Athens</td>\n",
              "      <td>Aquatics</td>\n",
              "      <td>Swimming</td>\n",
              "      <td>CHASAPIS, Spiridon</td>\n",
              "      <td>GRE</td>\n",
              "      <td>Men</td>\n",
              "      <td>100M Freestyle For Sailors</td>\n",
              "      <td>Silver</td>\n",
              "    </tr>\n",
              "  </tbody>\n",
              "</table>\n",
              "</div>"
            ],
            "text/plain": [
              "   Year    City     Sport  ... Gender                       Event   Medal\n",
              "0  1896  Athens  Aquatics  ...    Men              100M Freestyle    Gold\n",
              "1  1896  Athens  Aquatics  ...    Men              100M Freestyle  Silver\n",
              "2  1896  Athens  Aquatics  ...    Men  100M Freestyle For Sailors  Bronze\n",
              "3  1896  Athens  Aquatics  ...    Men  100M Freestyle For Sailors    Gold\n",
              "4  1896  Athens  Aquatics  ...    Men  100M Freestyle For Sailors  Silver\n",
              "\n",
              "[5 rows x 9 columns]"
            ]
          },
          "metadata": {},
          "execution_count": 137
        }
      ]
    },
    {
      "cell_type": "code",
      "metadata": {
        "colab": {
          "base_uri": "https://localhost:8080/",
          "height": 417
        },
        "id": "AxDTtPcn4Cx_",
        "outputId": "2b66ef78-9a63-4e20-fb90-d8b2a8b2cf06"
      },
      "source": [
        "ld"
      ],
      "execution_count": 138,
      "outputs": [
        {
          "output_type": "execute_result",
          "data": {
            "text/html": [
              "<div>\n",
              "<style scoped>\n",
              "    .dataframe tbody tr th:only-of-type {\n",
              "        vertical-align: middle;\n",
              "    }\n",
              "\n",
              "    .dataframe tbody tr th {\n",
              "        vertical-align: top;\n",
              "    }\n",
              "\n",
              "    .dataframe thead th {\n",
              "        text-align: right;\n",
              "    }\n",
              "</style>\n",
              "<table border=\"1\" class=\"dataframe\">\n",
              "  <thead>\n",
              "    <tr style=\"text-align: right;\">\n",
              "      <th></th>\n",
              "      <th>Year</th>\n",
              "      <th>City</th>\n",
              "      <th>Sport</th>\n",
              "      <th>Discipline</th>\n",
              "      <th>Athlete</th>\n",
              "      <th>Country</th>\n",
              "      <th>Gender</th>\n",
              "      <th>Event</th>\n",
              "      <th>Medal</th>\n",
              "    </tr>\n",
              "  </thead>\n",
              "  <tbody>\n",
              "    <tr>\n",
              "      <th>0</th>\n",
              "      <td>1896</td>\n",
              "      <td>Athens</td>\n",
              "      <td>Aquatics</td>\n",
              "      <td>Swimming</td>\n",
              "      <td>HAJOS, Alfred</td>\n",
              "      <td>HUN</td>\n",
              "      <td>Men</td>\n",
              "      <td>100M Freestyle</td>\n",
              "      <td>Gold</td>\n",
              "    </tr>\n",
              "    <tr>\n",
              "      <th>1</th>\n",
              "      <td>1896</td>\n",
              "      <td>Athens</td>\n",
              "      <td>Aquatics</td>\n",
              "      <td>Swimming</td>\n",
              "      <td>HERSCHMANN, Otto</td>\n",
              "      <td>AUT</td>\n",
              "      <td>Men</td>\n",
              "      <td>100M Freestyle</td>\n",
              "      <td>Silver</td>\n",
              "    </tr>\n",
              "    <tr>\n",
              "      <th>2</th>\n",
              "      <td>1896</td>\n",
              "      <td>Athens</td>\n",
              "      <td>Aquatics</td>\n",
              "      <td>Swimming</td>\n",
              "      <td>DRIVAS, Dimitrios</td>\n",
              "      <td>GRE</td>\n",
              "      <td>Men</td>\n",
              "      <td>100M Freestyle For Sailors</td>\n",
              "      <td>Bronze</td>\n",
              "    </tr>\n",
              "    <tr>\n",
              "      <th>3</th>\n",
              "      <td>1896</td>\n",
              "      <td>Athens</td>\n",
              "      <td>Aquatics</td>\n",
              "      <td>Swimming</td>\n",
              "      <td>MALOKINIS, Ioannis</td>\n",
              "      <td>GRE</td>\n",
              "      <td>Men</td>\n",
              "      <td>100M Freestyle For Sailors</td>\n",
              "      <td>Gold</td>\n",
              "    </tr>\n",
              "    <tr>\n",
              "      <th>4</th>\n",
              "      <td>1896</td>\n",
              "      <td>Athens</td>\n",
              "      <td>Aquatics</td>\n",
              "      <td>Swimming</td>\n",
              "      <td>CHASAPIS, Spiridon</td>\n",
              "      <td>GRE</td>\n",
              "      <td>Men</td>\n",
              "      <td>100M Freestyle For Sailors</td>\n",
              "      <td>Silver</td>\n",
              "    </tr>\n",
              "    <tr>\n",
              "      <th>...</th>\n",
              "      <td>...</td>\n",
              "      <td>...</td>\n",
              "      <td>...</td>\n",
              "      <td>...</td>\n",
              "      <td>...</td>\n",
              "      <td>...</td>\n",
              "      <td>...</td>\n",
              "      <td>...</td>\n",
              "      <td>...</td>\n",
              "    </tr>\n",
              "    <tr>\n",
              "      <th>31160</th>\n",
              "      <td>2012</td>\n",
              "      <td>London</td>\n",
              "      <td>Wrestling</td>\n",
              "      <td>Wrestling Freestyle</td>\n",
              "      <td>JANIKOWSKI, Damian</td>\n",
              "      <td>POL</td>\n",
              "      <td>Men</td>\n",
              "      <td>Wg 84 KG</td>\n",
              "      <td>Bronze</td>\n",
              "    </tr>\n",
              "    <tr>\n",
              "      <th>31161</th>\n",
              "      <td>2012</td>\n",
              "      <td>London</td>\n",
              "      <td>Wrestling</td>\n",
              "      <td>Wrestling Freestyle</td>\n",
              "      <td>REZAEI, Ghasem Gholamreza</td>\n",
              "      <td>IRI</td>\n",
              "      <td>Men</td>\n",
              "      <td>Wg 96 KG</td>\n",
              "      <td>Gold</td>\n",
              "    </tr>\n",
              "    <tr>\n",
              "      <th>31162</th>\n",
              "      <td>2012</td>\n",
              "      <td>London</td>\n",
              "      <td>Wrestling</td>\n",
              "      <td>Wrestling Freestyle</td>\n",
              "      <td>TOTROV, Rustam</td>\n",
              "      <td>RUS</td>\n",
              "      <td>Men</td>\n",
              "      <td>Wg 96 KG</td>\n",
              "      <td>Silver</td>\n",
              "    </tr>\n",
              "    <tr>\n",
              "      <th>31163</th>\n",
              "      <td>2012</td>\n",
              "      <td>London</td>\n",
              "      <td>Wrestling</td>\n",
              "      <td>Wrestling Freestyle</td>\n",
              "      <td>ALEKSANYAN, Artur</td>\n",
              "      <td>ARM</td>\n",
              "      <td>Men</td>\n",
              "      <td>Wg 96 KG</td>\n",
              "      <td>Bronze</td>\n",
              "    </tr>\n",
              "    <tr>\n",
              "      <th>31164</th>\n",
              "      <td>2012</td>\n",
              "      <td>London</td>\n",
              "      <td>Wrestling</td>\n",
              "      <td>Wrestling Freestyle</td>\n",
              "      <td>LIDBERG, Jimmy</td>\n",
              "      <td>SWE</td>\n",
              "      <td>Men</td>\n",
              "      <td>Wg 96 KG</td>\n",
              "      <td>Bronze</td>\n",
              "    </tr>\n",
              "  </tbody>\n",
              "</table>\n",
              "<p>31165 rows × 9 columns</p>\n",
              "</div>"
            ],
            "text/plain": [
              "       Year    City      Sport  ... Gender                       Event   Medal\n",
              "0      1896  Athens   Aquatics  ...    Men              100M Freestyle    Gold\n",
              "1      1896  Athens   Aquatics  ...    Men              100M Freestyle  Silver\n",
              "2      1896  Athens   Aquatics  ...    Men  100M Freestyle For Sailors  Bronze\n",
              "3      1896  Athens   Aquatics  ...    Men  100M Freestyle For Sailors    Gold\n",
              "4      1896  Athens   Aquatics  ...    Men  100M Freestyle For Sailors  Silver\n",
              "...     ...     ...        ...  ...    ...                         ...     ...\n",
              "31160  2012  London  Wrestling  ...    Men                    Wg 84 KG  Bronze\n",
              "31161  2012  London  Wrestling  ...    Men                    Wg 96 KG    Gold\n",
              "31162  2012  London  Wrestling  ...    Men                    Wg 96 KG  Silver\n",
              "31163  2012  London  Wrestling  ...    Men                    Wg 96 KG  Bronze\n",
              "31164  2012  London  Wrestling  ...    Men                    Wg 96 KG  Bronze\n",
              "\n",
              "[31165 rows x 9 columns]"
            ]
          },
          "metadata": {},
          "execution_count": 138
        }
      ]
    },
    {
      "cell_type": "code",
      "metadata": {
        "id": "kOrH79JO2rrT",
        "colab": {
          "base_uri": "https://localhost:8080/"
        },
        "outputId": "27935dc2-2bb8-46bf-93ed-d271f98323b8"
      },
      "source": [
        "ld.isnull().sum()"
      ],
      "execution_count": 139,
      "outputs": [
        {
          "output_type": "execute_result",
          "data": {
            "text/plain": [
              "Year          0\n",
              "City          0\n",
              "Sport         0\n",
              "Discipline    0\n",
              "Athlete       0\n",
              "Country       4\n",
              "Gender        0\n",
              "Event         0\n",
              "Medal         0\n",
              "dtype: int64"
            ]
          },
          "metadata": {},
          "execution_count": 139
        }
      ]
    },
    {
      "cell_type": "code",
      "metadata": {
        "colab": {
          "base_uri": "https://localhost:8080/"
        },
        "id": "3gS5L0Ze3gtC",
        "outputId": "d6286c5c-fa79-4547-84a8-06dd5d87b021"
      },
      "source": [
        "ld[\"Country\"].unique()"
      ],
      "execution_count": 140,
      "outputs": [
        {
          "output_type": "execute_result",
          "data": {
            "text/plain": [
              "array(['HUN', 'AUT', 'GRE', 'USA', 'GER', 'GBR', 'FRA', 'AUS', 'DEN',\n",
              "       'SUI', 'ZZX', 'NED', 'BEL', 'IND', 'CAN', 'BOH', 'SWE', 'NOR',\n",
              "       'ESP', 'ITA', 'CUB', 'ANZ', 'RSA', 'FIN', 'RU1', 'EST', 'TCH',\n",
              "       'NZL', 'BRA', 'JPN', 'LUX', 'ARG', 'POL', 'POR', 'URU', 'YUG',\n",
              "       'ROU', 'HAI', 'EGY', 'PHI', 'IRL', 'CHI', 'LAT', 'MEX', 'TUR',\n",
              "       'PAN', 'JAM', 'SRI', 'KOR', 'PUR', 'PER', 'IRI', 'TRI', 'URS',\n",
              "       'VEN', 'BUL', 'LIB', 'EUA', 'ISL', 'PAK', 'BAH', 'BWI', 'TPE',\n",
              "       'ETH', 'MAR', 'GHA', 'IRQ', 'SIN', 'TUN', 'KEN', 'NGR', 'GDR',\n",
              "       'FRG', 'UGA', 'CMR', 'MGL', 'PRK', 'COL', 'NIG', 'THA', 'BER',\n",
              "       'TAN', 'GUY', 'ZIM', 'CHN', 'CIV', 'ZAM', 'DOM', 'ALG', 'SYR',\n",
              "       'SUR', 'CRC', 'INA', 'SEN', 'DJI', 'AHO', 'ISV', 'EUN', 'NAM',\n",
              "       'QAT', 'LTU', 'MAS', 'CRO', 'ISR', 'SLO', 'IOP', 'RUS', 'UKR',\n",
              "       'ECU', 'BDI', 'MOZ', 'CZE', 'BLR', 'TGA', 'KAZ', 'UZB', 'SVK',\n",
              "       'MDA', 'GEO', 'HKG', 'ARM', 'AZE', 'BAR', 'KSA', 'KGZ', 'KUW',\n",
              "       'VIE', 'MKD', 'SCG', 'ERI', 'PAR', 'UAE', 'SRB', 'SUD', 'MRI',\n",
              "       'TOG', 'TJK', 'AFG', nan, 'BRN', 'GUA', 'GRN', 'TTO', 'BOT', 'MNE',\n",
              "       'CYP', 'SGP', 'GAB'], dtype=object)"
            ]
          },
          "metadata": {},
          "execution_count": 140
        }
      ]
    },
    {
      "cell_type": "markdown",
      "metadata": {
        "id": "n6OI7w1M4Ufm"
      },
      "source": [
        "#Q1. In how many cities Summer Olympics is held so far?\n"
      ]
    },
    {
      "cell_type": "code",
      "metadata": {
        "colab": {
          "base_uri": "https://localhost:8080/"
        },
        "id": "6f6aucjd3ren",
        "outputId": "f3036f55-5d26-48fc-e505-95de594f9eba"
      },
      "source": [
        "number_of_cities=len(ld[\"City\"].unique())\n",
        "print(number_of_cities)"
      ],
      "execution_count": 141,
      "outputs": [
        {
          "output_type": "stream",
          "name": "stdout",
          "text": [
            "22\n"
          ]
        }
      ]
    },
    {
      "cell_type": "markdown",
      "metadata": {
        "id": "-W0OP1RI4wZE"
      },
      "source": [
        "#Q2. Which sport is having most number of Gold Medals so far?"
      ]
    },
    {
      "cell_type": "code",
      "metadata": {
        "id": "PHow7_TxN7pQ"
      },
      "source": [
        "sport_gold=ld[ld[\"Medal\"]==\"Gold\"]\n"
      ],
      "execution_count": 142,
      "outputs": []
    },
    {
      "cell_type": "code",
      "metadata": {
        "colab": {
          "base_uri": "https://localhost:8080/"
        },
        "id": "F_olQPWmSR8n",
        "outputId": "3f016c0a-fd97-4c47-c52a-55dc9ae1240a"
      },
      "source": [
        "sport_gold[\"Sport\"].unique()"
      ],
      "execution_count": 143,
      "outputs": [
        {
          "output_type": "execute_result",
          "data": {
            "text/plain": [
              "array(['Aquatics', 'Athletics', 'Cycling', 'Fencing', 'Gymnastics',\n",
              "       'Shooting', 'Tennis', 'Weightlifting', 'Wrestling', 'Archery',\n",
              "       'Basque Pelota', 'Cricket', 'Croquet', 'Equestrian', 'Football',\n",
              "       'Golf', 'Polo', 'Rowing', 'Rugby', 'Sailing', 'Tug of War',\n",
              "       'Boxing', 'Lacrosse', 'Roque', 'Hockey', 'Jeu de paume', 'Rackets',\n",
              "       'Skating', 'Water Motorsports', 'Modern Pentathlon', 'Ice Hockey',\n",
              "       'Basketball', 'Canoe / Kayak', 'Handball', 'Judo', 'Volleyball',\n",
              "       'Table Tennis', 'Badminton', 'Baseball', 'Softball', 'Taekwondo',\n",
              "       'Triathlon', 'Canoe'], dtype=object)"
            ]
          },
          "metadata": {},
          "execution_count": 143
        }
      ]
    },
    {
      "cell_type": "code",
      "metadata": {
        "colab": {
          "base_uri": "https://localhost:8080/"
        },
        "id": "20qQew15SBeA",
        "outputId": "45a67536-c764-41e6-b28a-77fbcea7233a"
      },
      "source": [
        "for Sport in sport_gold['Sport'].unique():\n",
        "      print(Sport, len(sport_gold[sport_gold['Sport']  == Sport]))"
      ],
      "execution_count": 144,
      "outputs": [
        {
          "output_type": "stream",
          "name": "stdout",
          "text": [
            "Aquatics 1421\n",
            "Athletics 1215\n",
            "Cycling 371\n",
            "Fencing 552\n",
            "Gymnastics 820\n",
            "Shooting 384\n",
            "Tennis 92\n",
            "Weightlifting 200\n",
            "Wrestling 391\n",
            "Archery 126\n",
            "Basque Pelota 2\n",
            "Cricket 12\n",
            "Croquet 4\n",
            "Equestrian 320\n",
            "Football 503\n",
            "Golf 13\n",
            "Polo 22\n",
            "Rowing 890\n",
            "Rugby 78\n",
            "Sailing 412\n",
            "Tug of War 36\n",
            "Boxing 239\n",
            "Lacrosse 28\n",
            "Roque 1\n",
            "Hockey 486\n",
            "Jeu de paume 1\n",
            "Rackets 3\n",
            "Skating 9\n",
            "Water Motorsports 5\n",
            "Modern Pentathlon 60\n",
            "Ice Hockey 8\n",
            "Basketball 342\n",
            "Canoe / Kayak 334\n",
            "Handball 321\n",
            "Judo 123\n",
            "Volleyball 332\n",
            "Table Tennis 46\n",
            "Badminton 46\n",
            "Baseball 111\n",
            "Softball 60\n",
            "Taekwondo 32\n",
            "Triathlon 8\n",
            "Canoe 27\n"
          ]
        }
      ]
    },
    {
      "cell_type": "code",
      "metadata": {
        "colab": {
          "base_uri": "https://localhost:8080/",
          "height": 399
        },
        "id": "5dh7a5sEQJXL",
        "outputId": "0952c537-c27e-4447-91d2-9ca79b3bbfa6"
      },
      "source": [
        "data = []\n",
        "\n",
        "for Sport in sport_gold['Sport'].unique():\n",
        "      data.append([Sport, len(sport_gold[sport_gold['Sport']  == Sport])])\n",
        "pd.DataFrame(data,columns = ['Sport','freq']).sort_values(by='freq', ascending=False).head().plot(x = 'Sport', y = 'freq', kind = 'bar', figsize = (5,5))"
      ],
      "execution_count": 145,
      "outputs": [
        {
          "output_type": "execute_result",
          "data": {
            "text/plain": [
              "<matplotlib.axes._subplots.AxesSubplot at 0x7fe2e8155b10>"
            ]
          },
          "metadata": {},
          "execution_count": 145
        },
        {
          "output_type": "display_data",
          "data": {
            "image/png": "[encoded data removed]",
            "text/plain": [
              "<Figure size 360x360 with 1 Axes>"
            ]
          },
          "metadata": {
            "needs_background": "light"
          }
        }
      ]
    },
    {
      "cell_type": "code",
      "metadata": {
        "id": "QJVwqGqwNOZh"
      },
      "source": [
        "\n"
      ],
      "execution_count": 145,
      "outputs": []
    },
    {
      "cell_type": "markdown",
      "metadata": {
        "id": "8pmY_5RgMC5m"
      },
      "source": [
        "#Q3. Which sport is having most number of medals so far? (Top 5)"
      ]
    },
    {
      "cell_type": "code",
      "metadata": {
        "id": "z7qv4BklICs3"
      },
      "source": [
        ""
      ],
      "execution_count": 145,
      "outputs": []
    },
    {
      "cell_type": "code",
      "metadata": {
        "id": "pYMB8Fn9ICom",
        "colab": {
          "base_uri": "https://localhost:8080/",
          "height": 399
        },
        "outputId": "038f2130-177d-422c-b222-2a12dabc9445"
      },
      "source": [
        "data = []\n",
        "\n",
        "for sport in ld['Sport'].unique():\n",
        "      data.append([sport , len(ld[ld['Sport']  == sport])])\n",
        "\n",
        "pd.DataFrame(data,columns = ['Sport','freq']).sort_values(by='freq', ascending=False).head().plot(x = 'Sport', y = 'freq', kind = 'bar', figsize = (5,5))"
      ],
      "execution_count": 146,
      "outputs": [
        {
          "output_type": "execute_result",
          "data": {
            "text/plain": [
              "<matplotlib.axes._subplots.AxesSubplot at 0x7fe2e7f21090>"
            ]
          },
          "metadata": {},
          "execution_count": 146
        },
        {
          "output_type": "display_data",
          "data": {
            "image/png": "[encoded data removed]",
            "text/plain": [
              "<Figure size 360x360 with 1 Axes>"
            ]
          },
          "metadata": {
            "needs_background": "light"
          }
        }
      ]
    },
    {
      "cell_type": "markdown",
      "metadata": {
        "id": "HdHsaFksFKAa"
      },
      "source": [
        "#Q4. Which player has won most number of medals?"
      ]
    },
    {
      "cell_type": "code",
      "metadata": {
        "id": "7TIuYlQWH84V",
        "colab": {
          "base_uri": "https://localhost:8080/",
          "height": 458
        },
        "outputId": "c7e54af3-ad56-4ece-f215-5d3ebfc61923"
      },
      "source": [
        "data = []\n",
        "\n",
        "for player in ld['Athlete'].unique():\n",
        "      data.append([player , len(ld[ld['Athlete']  == player])])\n",
        "pd.DataFrame(data,columns = ['Athlete','freq']).sort_values(by='freq', ascending=False).head().plot(x = 'Athlete', y = 'freq', kind = 'bar', figsize = (5,5))"
      ],
      "execution_count": 147,
      "outputs": [
        {
          "output_type": "execute_result",
          "data": {
            "text/plain": [
              "<matplotlib.axes._subplots.AxesSubplot at 0x7fe2e7ecfdd0>"
            ]
          },
          "metadata": {},
          "execution_count": 147
        },
        {
          "output_type": "display_data",
          "data": {
            "image/png": "[encoded data removed]",
            "text/plain": [
              "<Figure size 360x360 with 1 Axes>"
            ]
          },
          "metadata": {
            "needs_background": "light"
          }
        }
      ]
    },
    {
      "cell_type": "markdown",
      "metadata": {
        "id": "7GjXSmS2WqO3"
      },
      "source": [
        "#5. Which player has won most number Gold Medals of medals? (Top 5)"
      ]
    },
    {
      "cell_type": "code",
      "metadata": {
        "colab": {
          "base_uri": "https://localhost:8080/",
          "height": 426
        },
        "id": "ySLZLRUQXBCh",
        "outputId": "f3887ba7-9db8-40d5-8119-371668565cb5"
      },
      "source": [
        "data = []\n",
        "\n",
        "for Athlete in sport_gold['Athlete'].unique():\n",
        "      data.append([Athlete, len(sport_gold[sport_gold['Athlete']  == Athlete])])\n",
        "pd.DataFrame(data,columns = ['Athlete','freq']).sort_values(by='freq', ascending=False).head().plot(x = 'Athlete', y = 'freq', kind = 'bar', figsize = (5,5))"
      ],
      "execution_count": 148,
      "outputs": [
        {
          "output_type": "execute_result",
          "data": {
            "text/plain": [
              "<matplotlib.axes._subplots.AxesSubplot at 0x7fe2e8260790>"
            ]
          },
          "metadata": {},
          "execution_count": 148
        },
        {
          "output_type": "display_data",
          "data": {
            "image/png": "[encoded data removed]",
            "text/plain": [
              "<Figure size 360x360 with 1 Axes>"
            ]
          },
          "metadata": {
            "needs_background": "light"
          }
        }
      ]
    },
    {
      "cell_type": "markdown",
      "metadata": {
        "id": "Vz_yRYR0WwNL"
      },
      "source": [
        "#6. In which year India won first Gold Medal in Summer Olympics"
      ]
    },
    {
      "cell_type": "code",
      "metadata": {
        "id": "H84A6mOaH8nh",
        "colab": {
          "base_uri": "https://localhost:8080/",
          "height": 49
        },
        "outputId": "a66fb0b3-0d80-4822-8162-b9d5abdcfaad"
      },
      "source": [
        "sport_gold[sport_gold[\"City\"]==\"India\"]"
      ],
      "execution_count": 149,
      "outputs": [
        {
          "output_type": "execute_result",
          "data": {
            "text/html": [
              "<div>\n",
              "<style scoped>\n",
              "    .dataframe tbody tr th:only-of-type {\n",
              "        vertical-align: middle;\n",
              "    }\n",
              "\n",
              "    .dataframe tbody tr th {\n",
              "        vertical-align: top;\n",
              "    }\n",
              "\n",
              "    .dataframe thead th {\n",
              "        text-align: right;\n",
              "    }\n",
              "</style>\n",
              "<table border=\"1\" class=\"dataframe\">\n",
              "  <thead>\n",
              "    <tr style=\"text-align: right;\">\n",
              "      <th></th>\n",
              "      <th>Year</th>\n",
              "      <th>City</th>\n",
              "      <th>Sport</th>\n",
              "      <th>Discipline</th>\n",
              "      <th>Athlete</th>\n",
              "      <th>Country</th>\n",
              "      <th>Gender</th>\n",
              "      <th>Event</th>\n",
              "      <th>Medal</th>\n",
              "    </tr>\n",
              "  </thead>\n",
              "  <tbody>\n",
              "  </tbody>\n",
              "</table>\n",
              "</div>"
            ],
            "text/plain": [
              "Empty DataFrame\n",
              "Columns: [Year, City, Sport, Discipline, Athlete, Country, Gender, Event, Medal]\n",
              "Index: []"
            ]
          },
          "metadata": {},
          "execution_count": 149
        }
      ]
    },
    {
      "cell_type": "code",
      "metadata": {
        "colab": {
          "base_uri": "https://localhost:8080/",
          "height": 49
        },
        "id": "Zxg2mpcWZ-LD",
        "outputId": "12610602-daf9-4e31-aa38-e7df601ef1ed"
      },
      "source": [
        "sport_gold[sport_gold[\"City\"]==\"India\"]"
      ],
      "execution_count": 150,
      "outputs": [
        {
          "output_type": "execute_result",
          "data": {
            "text/html": [
              "<div>\n",
              "<style scoped>\n",
              "    .dataframe tbody tr th:only-of-type {\n",
              "        vertical-align: middle;\n",
              "    }\n",
              "\n",
              "    .dataframe tbody tr th {\n",
              "        vertical-align: top;\n",
              "    }\n",
              "\n",
              "    .dataframe thead th {\n",
              "        text-align: right;\n",
              "    }\n",
              "</style>\n",
              "<table border=\"1\" class=\"dataframe\">\n",
              "  <thead>\n",
              "    <tr style=\"text-align: right;\">\n",
              "      <th></th>\n",
              "      <th>Year</th>\n",
              "      <th>City</th>\n",
              "      <th>Sport</th>\n",
              "      <th>Discipline</th>\n",
              "      <th>Athlete</th>\n",
              "      <th>Country</th>\n",
              "      <th>Gender</th>\n",
              "      <th>Event</th>\n",
              "      <th>Medal</th>\n",
              "    </tr>\n",
              "  </thead>\n",
              "  <tbody>\n",
              "  </tbody>\n",
              "</table>\n",
              "</div>"
            ],
            "text/plain": [
              "Empty DataFrame\n",
              "Columns: [Year, City, Sport, Discipline, Athlete, Country, Gender, Event, Medal]\n",
              "Index: []"
            ]
          },
          "metadata": {},
          "execution_count": 150
        }
      ]
    },
    {
      "cell_type": "markdown",
      "metadata": {
        "id": "EQP9v5dvC6T2"
      },
      "source": [
        "#Q7. Which event is most popular in terms on number of players? (Top 5)"
      ]
    },
    {
      "cell_type": "code",
      "metadata": {
        "id": "7C4Y4mkG9APH",
        "colab": {
          "base_uri": "https://localhost:8080/"
        },
        "outputId": "1f65b712-f195-432e-b2d2-979d5c4ee166"
      },
      "source": [
        "for sport in ld['Event'].unique():\n",
        "      print(sport , len(ld[ld['Event']  == sport]))"
      ],
      "execution_count": 151,
      "outputs": [
        {
          "output_type": "stream",
          "name": "stdout",
          "text": [
            "100M Freestyle 148\n",
            "100M Freestyle For Sailors 3\n",
            "1200M Freestyle 3\n",
            "400M Freestyle 144\n",
            "100M 142\n",
            "110M Hurdles 80\n",
            "1500M 114\n",
            "400M 119\n",
            "800M 126\n",
            "Discus Throw 141\n",
            "High Jump 151\n",
            "Long Jump 132\n",
            "Marathon 105\n",
            "Pole Vault 100\n",
            "Shot Put 132\n",
            "Triple Jump 96\n",
            "Individual Road Race 76\n",
            "100KM 5\n",
            "10KM 9\n",
            "12-Hour Race 2\n",
            "1KM Time Trial 57\n",
            "Sprint Indivual 69\n",
            "Foil Individual 141\n",
            "Foil, Masters 5\n",
            "Sabre Individual 90\n",
            "Horizontal Bar 72\n",
            "Parallel Bars 72\n",
            "Pommel Horse 69\n",
            "Rings 73\n",
            "Rope Climbing 13\n",
            "Team, Horizontal Bar 11\n",
            "Team, Parallel Bars 19\n",
            "Vault 123\n",
            "25M Army Pistol 3\n",
            "25M Rapid Fire Pistol (60 Shots) 69\n",
            "50M Pistol (60 Shots) 66\n",
            "Army Rifle, 200M 3\n",
            "Army Rifle, 300M 3\n",
            "Doubles 318\n",
            "Singles 168\n",
            "Heavyweight - One Hand Lift 3\n",
            "Heavyweight - Two Hand Lift 6\n",
            "Open Event 3\n",
            "1500M Freestyle 78\n",
            "200M Backstroke 79\n",
            "200M Freestyle 78\n",
            "200M Obstacle Event 3\n",
            "200M Team Swimming 15\n",
            "4000M Freestyle 3\n",
            "Underwater Swimming 3\n",
            "Water Polo 958\n",
            "Au Chapelet, 33M 3\n",
            "Au Chapelet, 50M 3\n",
            "Au Cordon Doré, 33M 3\n",
            "Au Cordon Doré, 50M 3\n",
            "Sur La Perche À La Herse 3\n",
            "Sur La Perche À La Pyramide 3\n",
            "200M 129\n",
            "200M Hurdles 6\n",
            "3000M Steeplechase 72\n",
            "4000M Steeplechase 3\n",
            "400M Hurdles 99\n",
            "5000M Team 10\n",
            "60M 6\n",
            "Hammer Throw 90\n",
            "High Jump, Standing 12\n",
            "Long Jump, Standing 12\n",
            "Triple Jump, Standing 6\n",
            "Cesta Punta 4\n",
            "Cricket 24\n",
            "Double 8\n",
            "Individual 1 Ball 3\n",
            "Individual 2 Balls 3\n",
            "25 Kilometres 3\n",
            "Individual 324\n",
            "Long Jump Individual 3\n",
            "Épée Individual 93\n",
            "Épée, Amateurs And Masters 3\n",
            "Épée, Masters 3\n",
            "Sabre, Masters 3\n",
            "Football 1497\n",
            "Individual All-Round 143\n",
            "Polo 66\n",
            "Eight With Coxswain (8+) 918\n",
            "Four-Oared Shell With Coxswain (4-) 359\n",
            "Pair-Oared Shell With Coxswain (2+) 162\n",
            "Single Sculls (1X) 104\n",
            "Rugby 192\n",
            "0.5-1T 10\n",
            "10-20T 4\n",
            "3-10T 3\n",
            "Open Class 9\n",
            "50M Army Pistol, Team 42\n",
            "Army Rifle, 300M, 3 Positions 7\n",
            "Army Rifle, 300M, Kneeling 3\n",
            "Army Rifle, 300M, Prone 6\n",
            "Army Rifle, 300M, Standing 6\n",
            "Free Rifle, Team 66\n",
            "Trap (125 Targets) 60\n",
            "Mixed Doubles 32\n",
            "Tug Of War 94\n",
            "10M Platform 145\n",
            "Plunge For Distance 3\n",
            "100M Backstroke 136\n",
            "400M Breaststroke 9\n",
            "4X50Y Freestyle Relay 12\n",
            "50Y Freestyle (45.72M) 3\n",
            "880Y Freestyle (804.66M) 3\n",
            "Double American Round (60Y - 50Y - 40Y) 3\n",
            "Double Columbia Round (50Y - 40Y - 30Y) 3\n",
            "Double National Round (60Y - 50Y) 3\n",
            "Double York Round (100Y - 80Y - 60Y) 3\n",
            "Team Round 60Y 12\n",
            "Teams Fita Round 24\n",
            "4Miles Team 10\n",
            "56LB Weight Throw (25.4KG) 6\n",
            "Decathlon 73\n",
            "Triathlon (Long Jump / Shot Put / 100 Yards) 3\n",
            "- 47.63KG (Flyweight) 2\n",
            "+ 71.67KG (Heavyweight) 9\n",
            "47.63 - 52.16KG (Bantamweight) 2\n",
            "52.16 - 56.7KG (Featherweight) 3\n",
            "56.7 - 61.24KG (Lightweight) 3\n",
            "61.24 - 65.77KG (Welterweight) 4\n",
            "65.77 - 71.67KG (Middleweight) 2\n",
            "1 Mile (1609.3M) 3\n",
            "1/2 Mile (804.7M) 3\n",
            "1/3 Mile (536.5M) 3\n",
            "1/4 Mile (402.3M) 3\n",
            "2 Miles (3.218KM) 3\n",
            "25 Miles (40.232KM) 3\n",
            "5 Miles (8.046KM) 3\n",
            "Foil Team 505\n",
            "Stick, Single 3\n",
            "Team 908\n",
            "Club Swinging 3\n",
            "Combined 3 Events 3\n",
            "Combined 4 Events 3\n",
            "Team Competition 1147\n",
            "Lacrosse 59\n",
            "Coxless Pair (2-) 132\n",
            "Double Sculls (2X) 186\n",
            "Four Without Coxswain (4-) 260\n",
            "All-Around Dumbbell Contest 3\n",
            "- 47.6KG (Light-Flyweight) 3\n",
            "47.6 - 52.16KG (Flyweight) 3\n",
            "52.16 - 56.7KG (Bantamweight) 3\n",
            "56.7 - 61.23KG (Featherweight) 3\n",
            "61.23 - 65.77KG (Lightweight) 3\n",
            "65.77 - 71.67KG (Welterweight) 3\n",
            "3M Springboard 139\n",
            "200M Breaststroke 135\n",
            "4X200M Freestyle Relay 380\n",
            "Continental Style 50M 3\n",
            "National Round (60Y - 50Y) 3\n",
            "York Round (100Y - 80Y - 60Y) 3\n",
            "10Miles Walk (16093M) 3\n",
            "3200M Steeplechase 3\n",
            "3500M Walk 3\n",
            "3Miles Team (4828M) 9\n",
            "4X400M Relay 451\n",
            "5 Miles (8047M) 3\n",
            "Discus Throw Ancient Style 3\n",
            "Javelin Throw 129\n",
            "Javelin Throw Freestyle 3\n",
            "- 52.62KG (Bantamweight) 3\n",
            "52.62 - 57.15KG (Featherweight) 3\n",
            "57.15 - 63.5KG (Lightweight) 3\n",
            "63.5 - 71.67KG (Middleweight) 3\n",
            "1980 Yards Pursuit, Team 12\n",
            "2000M Tandem 78\n",
            "20KM 3\n",
            "5000M 87\n",
            "One Lap (660Y) Sprint 3\n",
            "Épée Team 385\n",
            "Sabre Team 382\n",
            "Hockey 1422\n",
            "12M 47\n",
            "6M 102\n",
            "7M 12\n",
            "8M 93\n",
            "1000Y Free Rifle, Prone 3\n",
            "100M Running Deer, Double Shots 12\n",
            "100M Running Deer, Single Shots 12\n",
            "100M Running Deer, Single Shots, Team 51\n",
            "25Y Small Bore Rifle, Disappearing Target 3\n",
            "25Y Small Bore Rifle, Moving Target 3\n",
            "300M Free Rifle 3 Positions (3X40 Shots) 30\n",
            "50+100Y Small Bore Rifle, Team 12\n",
            "50M Rifle Prone (60 Shots) 63\n",
            "50Y Army Pistol, Team 12\n",
            "Clay Pigeons, Team 72\n",
            "Rifle, Team 36\n",
            "Pairs 12\n",
            "Special Figures 3\n",
            "Doubles Indoor 12\n",
            "Singles Indoor 12\n",
            "8M Class C 2\n",
            "Class B Up To 60 Feet 2\n",
            "Open Class A 1\n",
            "- 54KG (Bantamweight) 3\n",
            "+ 73KG (Heavyweight) 3\n",
            "54 - 60.3KG (Featherweight) 3\n",
            "60.3 - 66.6KG (Lightweight) 3\n",
            "66.6 - 73KG (Middleweight) 6\n",
            "- 66.6KG (Lightweight) 3\n",
            "+ 93KG (Super Heavyweight) 3\n",
            "73 - 93KG (Light-Heavyweight) 3\n",
            "Plain High Diving 9\n",
            "4X100M Freestyle Relay 438\n",
            "10000M 90\n",
            "10000M Walk 21\n",
            "3000M Team 41\n",
            "4X100M Relay 533\n",
            "Cross Country Individual 9\n",
            "Cross Country Team 36\n",
            "Discus Throw, Both Hands 3\n",
            "Javelin Throw, Both Hands 3\n",
            "Pentathlon 25\n",
            "Shot Put, Both Hands 3\n",
            "Individual Time Trial 36\n",
            "Team Time Trial 191\n",
            "Team, Free System 117\n",
            "Team, Swedish System 147\n",
            "Individual Competition 75\n",
            "Coxed Fours Jugriggers 15\n",
            "10M 22\n",
            "25M Small Bore Rifle, Team 12\n",
            "25M Small Rifle 3\n",
            "30M Army Pistol, Team 27\n",
            "50M Small Bore Rifle, Team 27\n",
            "600M Free Rifle 3\n",
            "Mixed Doubles Indoor 6\n",
            "- 60KG (Featherweight) 9\n",
            "+ 82.5KG (Super Heavyweight) 9\n",
            "60 - 67.5KG (Lightweight) 12\n",
            "67.5 - 75KG (Middleweight) 15\n",
            "75 - 82.5KG (Light-Heavyweight) 9\n",
            "Fixed Bird Target Large Birds 3\n",
            "Fixed Bird Target Large Birds Teams 6\n",
            "Fixed Bird Target Small Bird, Teams 6\n",
            "Fixed Bird Target Small Birds 3\n",
            "Moving Bird Target 28M Teams 24\n",
            "Moving Bird Target 33M Teams 16\n",
            "Moving Bird Target 50M Teams 16\n",
            "Moving Bird Target, 28M 2\n",
            "Moving Bird Target, 33M 2\n",
            "Moving Bird Target, 50M 2\n",
            "3000M Walk 3\n",
            "- 50.8KG (Flyweight) 15\n",
            "+ 79.38KG (Heavyweight) 15\n",
            "50.8 - 53.52KG (Bantamweight) 9\n",
            "53.52 - 57.15KG (Featherweight) 9\n",
            "57.15 - 61.24KG (Lightweight) 15\n",
            "61.24 - 66.68KG (Welterweight) 15\n",
            "66.68 - 72.57KG (Middleweight) 15\n",
            "72.57 - 79.38KG (Light-Heavyweight) 15\n",
            "50KM 6\n",
            "Team Pursuit (4000M) 262\n",
            "Figure Riding Individual 3\n",
            "Figure Riding Team 11\n",
            "Ice Hockey 27\n",
            "10M (Rating 1907) 7\n",
            "10M (Rating 1919) 7\n",
            "12 Foot Dinghy 4\n",
            "12M (Rating 1907) 9\n",
            "12M (Rating 1919) 9\n",
            "18 Foot Dinghy 2\n",
            "30M Sq 4\n",
            "40M Sq 8\n",
            "6.5M (Rating 1919) 6\n",
            "6M (Rating 1907) 9\n",
            "6M (Rating 1919) 6\n",
            "8M (Rating 1907) 9\n",
            "8M (Rating 1919) 14\n",
            "100M Running Deer, Double Shots, Team 33\n",
            "300+600M Free Rifle, Team, Prone 15\n",
            "300M Free Rifle, Prone, Team 15\n",
            "300M Free Rifle, Standing, Team 15\n",
            "50M Small Bore Rifle, Standing, Individual 3\n",
            "600M Free Rifle, Prone 3\n",
            "600M Free Rifle, Team 15\n",
            "- 60KG, One-Two Hand 3 Events (Featherweight) 3\n",
            "+ 82.5KG, One-Two Hand 3 Events (Heavyweight) 3\n",
            "60 - 67.5KG, One-Two Hand 3 Events (Lightweight) 3\n",
            "67.5 - 75KG, One-Two Hand 3 Events (Middleweight) 3\n",
            "75 - 82.5KG, One-Two Hand 3 E. (Light-Heavyweight) 3\n",
            "+ 80KG (Heavyweight) 11\n",
            "75 - 80KG (Light-Heavyweight) 3\n",
            "+ 82KG (Super Heavyweight) 3\n",
            "75 - 82KG (Light-Heavyweight) 3\n",
            "Sidehorse Vault 3\n",
            "Olympic Class Monotype 9\n",
            "400, 600, 800M Free Rifle, Team 18\n",
            "600M Free Rifle, Individual 3\n",
            "- 60KG, One-Two Hand 5 Events (Featherweight) 3\n",
            "+ 82.5KG, One-Two Hand 5 Events (Heavyweight) 3\n",
            "60 - 67.5KG, One-Two Hand 5 Events (Lightweight) 3\n",
            "67.5 - 75KG, One-Two Hand 5 Events (Middleweight) 3\n",
            "75 - 82.5KG, One-Two Hand 5 E. (Light-Heavyweight) 3\n",
            "- 56KG (Bantamweight) 18\n",
            "+ 87KG (Heavyweight) 24\n",
            "56 - 61KG (Featherweight) 18\n",
            "61 - 66KG (Lightweight) 18\n",
            "66 - 72KG (Welterweight) 18\n",
            "72 - 79KG (Middleweight) 18\n",
            "79 - 87KG (Light-Heavyweight) 42\n",
            "- 58KG (Bantamweight) 6\n",
            "58 - 62KG (Featherweight) 3\n",
            "62 - 67.5KG (Lightweight) 3\n",
            "1KM Pursuit 3\n",
            "12 Foot Dinghy Individual 3\n",
            "- 60KG, Total (Featherweight) 9\n",
            "+ 82.5KG, Total (Heavyweight) 12\n",
            "60 - 67.5KG, Total (Lightweight) 45\n",
            "67.5 - 75KG, Total (Middleweight) 45\n",
            "75 - 82.5KG, Total (Light-Heavyweight) 44\n",
            "58 - 60KG (Featherweight) 3\n",
            "50KM Walk 54\n",
            "80M Hurdles 24\n",
            "50.8 - 54KG (Bantamweight) 6\n",
            "54 - 57.15KG (Featherweight) 6\n",
            "Floor Exercises 112\n",
            "Indian Clubs 3\n",
            "Tumbling 3\n",
            "Two-Person Keelboat Open (Star) 90\n",
            "+ 87KG (Super Heavyweight) 18\n",
            "Basketball 1012\n",
            "C-1 1000M (Canoe Single) 51\n",
            "C-2 10000M 24\n",
            "C-2 1000M (Canoe Double) 102\n",
            "Folding K-1 10000M 3\n",
            "Folding K-2 10000M 6\n",
            "K-1 10000M 12\n",
            "K-1 1000M (Kayak Single) 51\n",
            "K-2 10000M 24\n",
            "K-2 1000M (Kayak Double) 102\n",
            "Handball 973\n",
            "- 51KG (Flyweight) 19\n",
            "51 - 54KG (Bantamweight) 63\n",
            "54 - 58KG (Featherweight) 3\n",
            "58 - 62KG (Lightweight) 3\n",
            "62 - 67KG (Welterweight) 3\n",
            "67 - 73KG (Middleweight) 3\n",
            "73 - 80KG (Light-Heavyweight) 3\n",
            "C-1 10000M 9\n",
            "K-1 500M (Kayak Single) 75\n",
            "Dragon 63\n",
            "Firefly Class 3\n",
            "Swallow (Golondrina) 6\n",
            "- 56KG, Total (Bantamweight) 39\n",
            "56 - 60KG, Total (Featherweight) 36\n",
            "- 52KG (Flyweight) 36\n",
            "52 - 57KG (Bantamweight) 78\n",
            "57 - 63KG (Featherweight) 24\n",
            "63 - 67KG (Lightweight) 12\n",
            "67 - 73KG (Welterweight) 24\n",
            "73 - 79KG (Middleweight) 24\n",
            "57 - 61KG (Featherweight) 12\n",
            "61 - 67KG (Lightweight) 12\n",
            "+ 81KG (Heavyweight) 32\n",
            "54 - 57KG (Featherweight) 60\n",
            "57 - 60KG (Lightweight) 60\n",
            "60 - 63.5KG (Light-Welterweight) 52\n",
            "63.5 - 67KG (Welterweight) 52\n",
            "67 - 71KG (Light-Middleweight) 52\n",
            "71-75KG 52\n",
            "75 - 81KG (Light-Heavyweight) 60\n",
            "Balance Beam 46\n",
            "Team, Portable Apparatus 48\n",
            "Uneven Bars 50\n",
            "5.5M 47\n",
            "Single-Handed Dinghy (Finn) 42\n",
            "100M Running Deer, Single/Double Shots 6\n",
            "50M Rifle 3 Positions (3X40 Shots) 45\n",
            "+ 90KG, Total (Heavyweight) 15\n",
            "82.5 - 90KG, Total (Middle-Heavyweight) 33\n",
            "100M Butterfly 81\n",
            "200M Butterfly 81\n",
            "20KM Walk 45\n",
            "Sharpie 12M2 6\n",
            "4X100M Medley Relay 387\n",
            "K-1 4X500M 12\n",
            "K-2 500M (Kayak Double) 132\n",
            "Flying Dutchman 54\n",
            "400M Individual Medley 72\n",
            "K-4 1000M (Kayak Four) 144\n",
            "Individual Pursuit 51\n",
            "- 68KG (Lightweight) 4\n",
            "68 - 80KG (Middleweight) 4\n",
            "Open Category 20\n",
            "Volleyball 934\n",
            "+ 97KG (Heavyweight) 6\n",
            "63 - 70KG (Lightweight) 12\n",
            "70 - 78KG (Welterweight) 12\n",
            "78 - 87KG (Middleweight) 12\n",
            "87 - 97KG (Light-Heavyweight) 12\n",
            "+ 97KG (Super Heavyweight) 6\n",
            "100M Breaststroke 72\n",
            "200M Individual Medley 54\n",
            "800M Freestyle 36\n",
            "- 48KG (Light-Flyweight) 78\n",
            "48 - 51KG (Flyweight) 44\n",
            "Skeet (125 Targets) 33\n",
            "Individual Fita Round 30\n",
            "100M Hurdles 34\n",
            "C-1 (Canoe Single) 18\n",
            "C-2 (Canoe Double) 36\n",
            "K-1 (Kayak Single) 36\n",
            "- 63KG (Lightweight) 7\n",
            "+ 93KG (Heavyweight) 8\n",
            "63 - 70KG (Half-Middleweight) 8\n",
            "70 - 80KG (Middleweight) 8\n",
            "80 - 93KG (Half-Heavyweight) 8\n",
            "Fleet/Match Race Keelboat Open (Soling) 72\n",
            "Tempest 12\n",
            "50M Running Target (30+30 Shots) 21\n",
            "- 52KG, Total (Flyweight) 18\n",
            "+ 110KG, Total (Super Heavyweight) 18\n",
            "52 - 56KG, Total (Bantamweight) 3\n",
            "91 - 110KG, Total (Heavyweight) 6\n",
            "+ 100KG (Super Heavyweight) 24\n",
            "48 - 52KG (Flyweight) 42\n",
            "57 - 62KG (Featherweight) 42\n",
            "62 - 68KG (Lightweight) 42\n",
            "68 - 74KG (Welterweight) 42\n",
            "74 - 82KG (Middleweight) 42\n",
            "82 - 90KG (Light-Heavyweight) 42\n",
            "90 - 100KG (Heavyweight) 42\n",
            "C-1 500M (Canoe Single) 27\n",
            "C-2 500M (Canoe Double) 54\n",
            "Pair Without Coxswain (2-) 54\n",
            "Quadruple Sculls With Coxswain (4X) 45\n",
            "Quadruple Sculls Without Coxswain (4X) 180\n",
            "470 - Two Person Dinghy 90\n",
            "Tornado - Multihull 54\n",
            "- 60 KG 36\n",
            "+ 95KG (Heavyweight) 16\n",
            "60 - 65KG (Half-Lightweight) 16\n",
            "65 - 71KG (Lightweight) 16\n",
            "71 - 78KG (Half-Middleweight) 16\n",
            "78 - 86KG (Middleweight) 16\n",
            "86 - 95KG (Half-Heavyweight) 16\n",
            "100 - 110KG, Total (Heavyweight) 12\n",
            "90 - 100KG, Total (First-Heavyweight) 12\n",
            "Duet 42\n",
            "Solo 9\n",
            "3000M 9\n",
            "Heptathlon 24\n",
            "+ 91KG (Super Heavyweight) 28\n",
            "81 - 91KG (Heavyweight) 28\n",
            "K-4 500M (Kayak Four) 84\n",
            "Points Race 33\n",
            "Board (Windglider) 3\n",
            "10M Air Rifle (40 Shots) 21\n",
            "10M Air Rifle (60 Shots) 21\n",
            "25M Pistol (30+30 Shots) 21\n",
            "50M Rifle 3 Positions (3X20 Shots) 21\n",
            "50M Freestyle 43\n",
            "Sprint 24\n",
            "Board (Division Ii) 3\n",
            "10M Air Pistol (40 Shots) 18\n",
            "10M Air Pistol (60 Shots) 18\n",
            "100 - 130KG (Super Heavyweight) 18\n",
            "Individual (Fita Olympic Round - 70M) 30\n",
            "Team (Fita Olympic Round - 70M) 90\n",
            "Baseball 335\n",
            "- 48KG (Extra-Lightweight) 12\n",
            "+ 72KG (Heavyweight) 8\n",
            "48 - 52KG (Half-Lightweight) 20\n",
            "52 - 56KG (Lightweight) 8\n",
            "56 - 61KG (Half-Middleweight) 8\n",
            "61 - 66KG (Middleweight) 8\n",
            "66 - 72KG (Half-Heavyweight) 8\n",
            "Coxless Four (4-) 12\n",
            "Board (Lechner) 6\n",
            "Single-Handed Dinghy (Europe) 12\n",
            "Cross-Country 30\n",
            "Group Competition 90\n",
            "+ 100KG (Heavyweight) 16\n",
            "60 - 66KG (Half-Lightweight) 16\n",
            "66 - 73KG (Lightweight) 16\n",
            "73 - 81KG (Half-Middleweight) 16\n",
            "81 - 90KG (Middleweight) 16\n",
            "90 - 100KG (Half-Heavyweight) 16\n",
            "Lightweight Coxless Four (4-) 48\n",
            "Lightweight Double Sculls (2X) 48\n",
            "Board (Mistral) 18\n",
            "Single-Handed Dinghy Open (Laser) 9\n",
            "Double Trap (120 Targets) 9\n",
            "Double Trap (150 Targets) 12\n",
            "Softball 180\n",
            "Beach Volleyball 60\n",
            "- 54KG, Total (Flyweight) 3\n",
            "+ 108KG, Total (Super Heavyweight) 3\n",
            "54 - 59KG, Total (Bantamweight) 3\n",
            "59 - 64KG, Total (Featherweight) 3\n",
            "64 - 70KG, Total (Lightweight) 3\n",
            "70 - 76KG, Total (Middleweight) 3\n",
            "76 - 83KG, Total (Light-Heavyweight) 3\n",
            "83 - 91KG, Total (Middle-Heavyweight) 3\n",
            "91 - 99KG, Total (First-Heavyweight) 3\n",
            "99 - 108KG, Total (Heavyweight) 3\n",
            "Synchronized Diving 10M Platform 36\n",
            "Synchronized Diving 3M Springboard 36\n",
            "20KM Race Walk 12\n",
            "500M Time Trial 6\n",
            "Keirin 16\n",
            "Madison 18\n",
            "Olympic Sprint 9\n",
            "+ 78KG (Heavyweight) 12\n",
            "52 - 57KG (Lightweight) 12\n",
            "57 - 63KG (Half-Middleweight) 12\n",
            "63 - 70KG (Middleweight) 12\n",
            "70 - 78KG (Half-Heavyweight) 12\n",
            "49Er - Skiff 24\n",
            "10M Running Target (30+30 Shots) 6\n",
            "Skeet (75 Targets) 9\n",
            "Trap (75 Targets) 9\n",
            "- 49 KG 14\n",
            "- 58 KG 14\n",
            "+ 67 KG 14\n",
            "+ 80 KG 14\n",
            "49 - 57 KG 14\n",
            "57 - 67 KG 14\n",
            "58 - 68 KG 14\n",
            "68 - 80 KG 14\n",
            "+ 105KG 9\n",
            "+ 75KG 9\n",
            "105KG 12\n",
            "48KG 12\n",
            "53KG 12\n",
            "56KG 7\n",
            "58KG 12\n",
            "62KG 12\n",
            "63KG 12\n",
            "69KG 24\n",
            "75KG 12\n",
            "77KG 12\n",
            "85KG 12\n",
            "94KG 12\n",
            "48 - 54KG 6\n",
            "54 - 58KG 6\n",
            "58 - 63KG 6\n",
            "63 - 69KG 6\n",
            "69 - 76KG 6\n",
            "76 - 85KG 6\n",
            "85 - 97KG 6\n",
            "97 - 130KG 6\n",
            "48KG (Light Flywieght) 8\n",
            "60 - 64 KG 12\n",
            "64 - 69 KG 12\n",
            "69 - 75 KG 12\n",
            "Team Sprint 33\n",
            "- 48 KG 12\n",
            "Star - Keelboat 12\n",
            "Yngling - Keelboat 18\n",
            "- 48KG 7\n",
            "- 55KG 14\n",
            "48 - 55KG 7\n",
            "55 - 60KG 14\n",
            "55 - 63KG 7\n",
            "60 - 66KG 18\n",
            "63 - 72KG 7\n",
            "66 - 74KG 14\n",
            "74 - 84KG 13\n",
            "84 - 96KG 14\n",
            "96 - 120KG 14\n",
            "Marathon 10KM 6\n",
            "Finn - Heavyweight Dinghy 3\n",
            "Laser - One Person Dinghy 3\n",
            "Laser Radial - One Person Dinghy 3\n",
            "Rs:X - Windsurfer 6\n",
            "Synchronized 10M 12\n",
            "Synchronized 3M 12\n",
            "200M Medley 6\n",
            "400M Medley 6\n",
            "4X100M Freestyle 38\n",
            "4X100M Medley 35\n",
            "4X200M Freestyle 38\n",
            "3000M Steeple 6\n",
            "+ 91KG 4\n",
            "46 - 49KG 4\n",
            "51 KG 4\n",
            "52KG 4\n",
            "57 - 60KG 4\n",
            "60 KG 4\n",
            "75 - 81KG 4\n",
            "75 KG 4\n",
            "81 - 91KG 4\n",
            "C-1 (Single) 3\n",
            "C-2 (Double) 6\n",
            "K-1 (Single) 6\n",
            "C-1 1000M 3\n",
            "C-1 200M 3\n",
            "C-2 1000M 6\n",
            "K-1 1000M 3\n",
            "K-1 200M 6\n",
            "K-1 500M 3\n",
            "K-2 1000M 6\n",
            "K-2 200M 6\n",
            "K-2 500M 6\n",
            "K-4 1000M 12\n",
            "K-4 500M 12\n",
            "Individual Road 6\n",
            "Time Trial 6\n",
            "Omnium 6\n",
            "Team Pursuit 22\n",
            "Beam 3\n",
            "Individual All-Around 9\n",
            "+ 100KG 4\n",
            "+ 78KG 4\n",
            "48 - 52KG 4\n",
            "52 - 57KG 4\n",
            "57 - 63KG 4\n",
            "63 - 70KG 4\n",
            "66 - 73KG 4\n",
            "70 - 78KG 4\n",
            "73 - 81KG 4\n",
            "81 - 90KG 4\n",
            "90 - 100KG 4\n",
            "Coxless Four 12\n",
            "Coxless Pair 2- 12\n",
            "Double Sculls 12\n",
            "Eight With Coxswain 54\n",
            "Lightweight 4 12\n",
            "Lightweight Doubles 12\n",
            "Quadruple Sculls 24\n",
            "Single Sculls 6\n",
            "470 12\n",
            "Elliott 6M 9\n",
            "Finn 3\n",
            "Laser 3\n",
            "Laser Radial 3\n",
            "Rs:X 6\n",
            "Star 6\n",
            "10M Air Pistol 6\n",
            "10M Air Rifle 6\n",
            "25M Pistol 3\n",
            "25M Rapid Pistol 3\n",
            "50M Pistol 3\n",
            "50M Rifle 3 Positions 6\n",
            "50M Rifle Prone 3\n",
            "Double Trap 150 3\n",
            "Skeet 6\n",
            "Trap 6\n",
            "+105KG 3\n",
            "+75KG 3\n",
            "-56KG 3\n",
            "Wf 120KG 4\n",
            "Wf 48 KG 4\n",
            "Wf 55 KG 8\n",
            "Wf 60 KG 4\n",
            "Wf 63 KG 4\n",
            "Wf 66 KG 4\n",
            "Wf 72 KG 4\n",
            "Wf 74 KG 4\n",
            "Wf 84 KG 4\n",
            "Wf 96 KG 4\n",
            "Wg 120 KG 4\n",
            "Wg 55 KG 4\n",
            "Wg 60 KG 4\n",
            "Wg 66 KG 4\n",
            "Wg 74 KG 4\n",
            "Wg 84 KG 4\n",
            "Wg 96 KG 4\n"
          ]
        }
      ]
    },
    {
      "cell_type": "markdown",
      "metadata": {
        "id": "z3i_8gid_ass"
      },
      "source": [
        ""
      ]
    },
    {
      "cell_type": "code",
      "metadata": {
        "id": "j9zsqyDh8m0l",
        "colab": {
          "base_uri": "https://localhost:8080/",
          "height": 431
        },
        "outputId": "3312e5e7-9970-4931-97da-1690cb369895"
      },
      "source": [
        "data = []\n",
        "\n",
        "for sport in ld['Event'].unique():\n",
        "      data.append([sport , len(ld[ld['Event']  == sport])])\n",
        "\n",
        "pd.DataFrame(data,columns = ['Event','freq']).sort_values(by='freq', ascending=False).head().plot(x = 'Event', y = 'freq', kind = 'bar', figsize = (5,5))"
      ],
      "execution_count": 152,
      "outputs": [
        {
          "output_type": "execute_result",
          "data": {
            "text/plain": [
              "<matplotlib.axes._subplots.AxesSubplot at 0x7fe2e7f63dd0>"
            ]
          },
          "metadata": {},
          "execution_count": 152
        },
        {
          "output_type": "display_data",
          "data": {
            "image/png": "[encoded data removed]",
            "text/plain": [
              "<Figure size 360x360 with 1 Axes>"
            ]
          },
          "metadata": {
            "needs_background": "light"
          }
        }
      ]
    },
    {
      "cell_type": "code",
      "metadata": {
        "id": "ju8aK7ozH-qX"
      },
      "source": [
        ""
      ],
      "execution_count": 152,
      "outputs": []
    },
    {
      "cell_type": "markdown",
      "metadata": {
        "id": "Mamm5BHoBHih"
      },
      "source": [
        "#Q8. Which sport is having most female Gold Medalists? (Top 5)"
      ]
    },
    {
      "cell_type": "code",
      "metadata": {
        "id": "4tbgalcd_g0q"
      },
      "source": [
        "women_player=ld[ld[\"Gender\"]==\"Women\"]"
      ],
      "execution_count": 153,
      "outputs": []
    },
    {
      "cell_type": "code",
      "metadata": {
        "colab": {
          "base_uri": "https://localhost:8080/",
          "height": 417
        },
        "id": "1p_R1J-4JV-I",
        "outputId": "cc953519-b66c-475d-b390-10cc4de63e48"
      },
      "source": [
        "women_player"
      ],
      "execution_count": 154,
      "outputs": [
        {
          "output_type": "execute_result",
          "data": {
            "text/html": [
              "<div>\n",
              "<style scoped>\n",
              "    .dataframe tbody tr th:only-of-type {\n",
              "        vertical-align: middle;\n",
              "    }\n",
              "\n",
              "    .dataframe tbody tr th {\n",
              "        vertical-align: top;\n",
              "    }\n",
              "\n",
              "    .dataframe thead th {\n",
              "        text-align: right;\n",
              "    }\n",
              "</style>\n",
              "<table border=\"1\" class=\"dataframe\">\n",
              "  <thead>\n",
              "    <tr style=\"text-align: right;\">\n",
              "      <th></th>\n",
              "      <th>Year</th>\n",
              "      <th>City</th>\n",
              "      <th>Sport</th>\n",
              "      <th>Discipline</th>\n",
              "      <th>Athlete</th>\n",
              "      <th>Country</th>\n",
              "      <th>Gender</th>\n",
              "      <th>Event</th>\n",
              "      <th>Medal</th>\n",
              "    </tr>\n",
              "  </thead>\n",
              "  <tbody>\n",
              "    <tr>\n",
              "      <th>416</th>\n",
              "      <td>1900</td>\n",
              "      <td>Paris</td>\n",
              "      <td>Golf</td>\n",
              "      <td>Golf</td>\n",
              "      <td>PRATT, Daria</td>\n",
              "      <td>USA</td>\n",
              "      <td>Women</td>\n",
              "      <td>Individual</td>\n",
              "      <td>Bronze</td>\n",
              "    </tr>\n",
              "    <tr>\n",
              "      <th>417</th>\n",
              "      <td>1900</td>\n",
              "      <td>Paris</td>\n",
              "      <td>Golf</td>\n",
              "      <td>Golf</td>\n",
              "      <td>ABBOTT, Margaret Ives</td>\n",
              "      <td>USA</td>\n",
              "      <td>Women</td>\n",
              "      <td>Individual</td>\n",
              "      <td>Gold</td>\n",
              "    </tr>\n",
              "    <tr>\n",
              "      <th>418</th>\n",
              "      <td>1900</td>\n",
              "      <td>Paris</td>\n",
              "      <td>Golf</td>\n",
              "      <td>Golf</td>\n",
              "      <td>WHITTIER, Pauline</td>\n",
              "      <td>USA</td>\n",
              "      <td>Women</td>\n",
              "      <td>Individual</td>\n",
              "      <td>Silver</td>\n",
              "    </tr>\n",
              "    <tr>\n",
              "      <th>639</th>\n",
              "      <td>1900</td>\n",
              "      <td>Paris</td>\n",
              "      <td>Tennis</td>\n",
              "      <td>Tennis</td>\n",
              "      <td>JONES, Marion</td>\n",
              "      <td>ZZX</td>\n",
              "      <td>Women</td>\n",
              "      <td>Mixed Doubles</td>\n",
              "      <td>Bronze</td>\n",
              "    </tr>\n",
              "    <tr>\n",
              "      <th>640</th>\n",
              "      <td>1900</td>\n",
              "      <td>Paris</td>\n",
              "      <td>Tennis</td>\n",
              "      <td>Tennis</td>\n",
              "      <td>ROSENBAUM, Hedwig</td>\n",
              "      <td>ZZX</td>\n",
              "      <td>Women</td>\n",
              "      <td>Mixed Doubles</td>\n",
              "      <td>Bronze</td>\n",
              "    </tr>\n",
              "    <tr>\n",
              "      <th>...</th>\n",
              "      <td>...</td>\n",
              "      <td>...</td>\n",
              "      <td>...</td>\n",
              "      <td>...</td>\n",
              "      <td>...</td>\n",
              "      <td>...</td>\n",
              "      <td>...</td>\n",
              "      <td>...</td>\n",
              "      <td>...</td>\n",
              "    </tr>\n",
              "    <tr>\n",
              "      <th>31116</th>\n",
              "      <td>2012</td>\n",
              "      <td>London</td>\n",
              "      <td>Wrestling</td>\n",
              "      <td>Wrestling Freestyle</td>\n",
              "      <td>VOLOSOVA, Lubov</td>\n",
              "      <td>RUS</td>\n",
              "      <td>Women</td>\n",
              "      <td>Wf 63 KG</td>\n",
              "      <td>Bronze</td>\n",
              "    </tr>\n",
              "    <tr>\n",
              "      <th>31121</th>\n",
              "      <td>2012</td>\n",
              "      <td>London</td>\n",
              "      <td>Wrestling</td>\n",
              "      <td>Wrestling Freestyle</td>\n",
              "      <td>VOROBIEVA, Natalia</td>\n",
              "      <td>RUS</td>\n",
              "      <td>Women</td>\n",
              "      <td>Wf 72 KG</td>\n",
              "      <td>Gold</td>\n",
              "    </tr>\n",
              "    <tr>\n",
              "      <th>31122</th>\n",
              "      <td>2012</td>\n",
              "      <td>London</td>\n",
              "      <td>Wrestling</td>\n",
              "      <td>Wrestling Freestyle</td>\n",
              "      <td>HRISTOVA, Stanka Zlateva</td>\n",
              "      <td>BUL</td>\n",
              "      <td>Women</td>\n",
              "      <td>Wf 72 KG</td>\n",
              "      <td>Silver</td>\n",
              "    </tr>\n",
              "    <tr>\n",
              "      <th>31123</th>\n",
              "      <td>2012</td>\n",
              "      <td>London</td>\n",
              "      <td>Wrestling</td>\n",
              "      <td>Wrestling Freestyle</td>\n",
              "      <td>MANYUROVA, Guzel</td>\n",
              "      <td>KAZ</td>\n",
              "      <td>Women</td>\n",
              "      <td>Wf 72 KG</td>\n",
              "      <td>Bronze</td>\n",
              "    </tr>\n",
              "    <tr>\n",
              "      <th>31124</th>\n",
              "      <td>2012</td>\n",
              "      <td>London</td>\n",
              "      <td>Wrestling</td>\n",
              "      <td>Wrestling Freestyle</td>\n",
              "      <td>UNDA, Maider</td>\n",
              "      <td>ESP</td>\n",
              "      <td>Women</td>\n",
              "      <td>Wf 72 KG</td>\n",
              "      <td>Bronze</td>\n",
              "    </tr>\n",
              "  </tbody>\n",
              "</table>\n",
              "<p>8419 rows × 9 columns</p>\n",
              "</div>"
            ],
            "text/plain": [
              "       Year    City      Sport  ... Gender          Event   Medal\n",
              "416    1900   Paris       Golf  ...  Women     Individual  Bronze\n",
              "417    1900   Paris       Golf  ...  Women     Individual    Gold\n",
              "418    1900   Paris       Golf  ...  Women     Individual  Silver\n",
              "639    1900   Paris     Tennis  ...  Women  Mixed Doubles  Bronze\n",
              "640    1900   Paris     Tennis  ...  Women  Mixed Doubles  Bronze\n",
              "...     ...     ...        ...  ...    ...            ...     ...\n",
              "31116  2012  London  Wrestling  ...  Women       Wf 63 KG  Bronze\n",
              "31121  2012  London  Wrestling  ...  Women       Wf 72 KG    Gold\n",
              "31122  2012  London  Wrestling  ...  Women       Wf 72 KG  Silver\n",
              "31123  2012  London  Wrestling  ...  Women       Wf 72 KG  Bronze\n",
              "31124  2012  London  Wrestling  ...  Women       Wf 72 KG  Bronze\n",
              "\n",
              "[8419 rows x 9 columns]"
            ]
          },
          "metadata": {},
          "execution_count": 154
        }
      ]
    },
    {
      "cell_type": "code",
      "metadata": {
        "colab": {
          "base_uri": "https://localhost:8080/"
        },
        "id": "JwH31yPYWUHc",
        "outputId": "4729b332-da5e-4cae-ef37-bf22748f4bdf"
      },
      "source": [
        "for player in women_player['Sport'].unique():\n",
        "      print([player , len(women_player[women_player['Sport']  == player])])"
      ],
      "execution_count": 155,
      "outputs": [
        {
          "output_type": "stream",
          "name": "stdout",
          "text": [
            "['Golf', 3]\n",
            "['Tennis', 120]\n",
            "['Archery', 111]\n",
            "['Skating', 12]\n",
            "['Aquatics', 1726]\n",
            "['Sailing', 109]\n",
            "['Equestrian', 198]\n",
            "['Fencing', 316]\n",
            "['Athletics', 1163]\n",
            "['Gymnastics', 799]\n",
            "['Canoe / Kayak', 228]\n",
            "['Volleyball', 497]\n",
            "['Basketball', 359]\n",
            "['Handball', 429]\n",
            "['Rowing', 651]\n",
            "['Shooting', 128]\n",
            "['Hockey', 431]\n",
            "['Cycling', 136]\n",
            "['Table Tennis', 72]\n",
            "['Badminton', 72]\n",
            "['Judo', 168]\n",
            "['Football', 264]\n",
            "['Softball', 180]\n",
            "['Modern Pentathlon', 12]\n",
            "['Taekwondo', 56]\n",
            "['Triathlon', 12]\n",
            "['Weightlifting', 84]\n",
            "['Wrestling', 44]\n",
            "['Boxing', 12]\n",
            "['Canoe', 27]\n"
          ]
        }
      ]
    },
    {
      "cell_type": "code",
      "metadata": {
        "id": "rN4QZE6KJ2cT",
        "colab": {
          "base_uri": "https://localhost:8080/",
          "height": 399
        },
        "outputId": "a00f527f-b817-4574-b36c-16195c76c707"
      },
      "source": [
        "data = []\n",
        "\n",
        "for player in women_player['Sport'].unique():\n",
        "      data.append([player , len(women_player[women_player['Sport']  == player])])\n",
        "pd.DataFrame(data,columns = ['Sport','freq']).sort_values(by='freq', ascending=False).head().plot(x = 'Sport', y = 'freq', kind = 'bar', figsize = (5,5))"
      ],
      "execution_count": 156,
      "outputs": [
        {
          "output_type": "execute_result",
          "data": {
            "text/plain": [
              "<matplotlib.axes._subplots.AxesSubplot at 0x7fe2e7edc790>"
            ]
          },
          "metadata": {},
          "execution_count": 156
        },
        {
          "output_type": "display_data",
          "data": {
            "image/png": "[encoded data removed]",
            "text/plain": [
              "<Figure size 360x360 with 1 Axes>"
            ]
          },
          "metadata": {
            "needs_background": "light"
          }
        }
      ]
    }
  ]
}